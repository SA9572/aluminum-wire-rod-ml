{
 "cells": [
  {
   "cell_type": "markdown",
   "id": "04a22beb",
   "metadata": {},
   "source": [
    "Cell 1: Import Libraries"
   ]
  },
  {
   "cell_type": "code",
   "execution_count": 4,
   "id": "31f57505",
   "metadata": {},
   "outputs": [],
   "source": [
    "import pandas as pd\n",
    "import numpy as np\n",
    "import matplotlib.pyplot as plt\n",
    "import seaborn as sns\n",
    "\n",
    "%matplotlib inline"
   ]
  },
  {
   "cell_type": "markdown",
   "id": "536847d9",
   "metadata": {},
   "source": [
    "Cell 2: Load Data"
   ]
  },
  {
   "cell_type": "code",
   "execution_count": null,
   "id": "599172ad",
   "metadata": {},
   "outputs": [],
   "source": [
    "# Load the dataset\n",
    "df = pd.read_csv('C:\\\\Users\\\\ssaur\\\\OneDrive\\\\Desktop\\\\aluminum-wire-rod-ml\\\\data\\\\INT254_dataset_Final.csv')\n",
    "\n",
    "# Display basic info\n",
    "print(\"Dataset Shape:\", df.shape)\n",
    "print(\"\\nColumn Names:\", df.columns.tolist())\n",
    "print(\"\\nMissing Values:\\n\", df.isnull().sum())\n",
    "print(\"\\nData Types:\\n\", df.dtypes)"
   ]
  },
  {
   "cell_type": "markdown",
   "id": "dfcb3c46",
   "metadata": {},
   "source": [
    "Cell 3: Summary Statistics"
   ]
  },
  {
   "cell_type": "code",
   "execution_count": null,
   "id": "98cfb0ec",
   "metadata": {},
   "outputs": [],
   "source": [
    "\n",
    "\n",
    "df = pd.read_csv('C:/Users/ssaur/OneDrive/Desktop/aluminum-wire-rod-ml/data/INT254_dataset_Final.csv')\n",
    "\n",
    "print(\"Summary Statistics:\")\n",
    "display(df.describe())\n"
   ]
  },
  {
   "cell_type": "markdown",
   "id": "c374178e",
   "metadata": {},
   "source": [
    "Cell 4: Visualize Target Variables"
   ]
  },
  {
   "cell_type": "code",
   "execution_count": null,
   "id": "2ea44fcc",
   "metadata": {},
   "outputs": [],
   "source": [
    "# Plot histograms for Tensile Strength and Elongation\n",
    "plt.figure(figsize=(12, 5))\n",
    "\n",
    "plt.subplot(1, 2, 1)\n",
    "sns.histplot(df[' Tensile Strength (MPa)'], bins=20, kde=True)\n",
    "plt.title('Tensile Strength Distribution')\n",
    "\n",
    "plt.subplot(1, 2, 2)\n",
    "sns.histplot(df[' Elongation (%)'], bins=20, kde=True)\n",
    "plt.title('Elongation Distribution')\n",
    "\n",
    "plt.tight_layout()\n",
    "plt.show()"
   ]
  },
  {
   "cell_type": "markdown",
   "id": "3d1ad5ee",
   "metadata": {},
   "source": [
    "Cell 5: Correlation Analysis"
   ]
  },
  {
   "cell_type": "code",
   "execution_count": null,
   "id": "1334c93c",
   "metadata": {},
   "outputs": [],
   "source": [
    "# Select numeric columns\n",
    "numeric_cols = df.select_dtypes(include=[np.number]).columns\n",
    "\n",
    "# Correlation matrix\n",
    "plt.figure(figsize=(10, 8))\n",
    "sns.heatmap(df[numeric_cols].corr(), annot=False, cmap='coolwarm', linewidths=0.5)\n",
    "plt.title('Correlation Matrix')\n",
    "plt.show()\n",
    "\n",
    "# Focus on correlations with target variables\n",
    "print(\"Correlation with Tensile Strength:\")\n",
    "display(df[numeric_cols].corr()[' Tensile Strength (MPa)'].sort_values(ascending=False))"
   ]
  },
  {
   "cell_type": "markdown",
   "id": "fdf6460a",
   "metadata": {},
   "source": [
    "Cell 6: Temperature Impact"
   ]
  },
  {
   "cell_type": "code",
   "execution_count": null,
   "id": "252324b6",
   "metadata": {},
   "outputs": [],
   "source": [
    "# Scatter plot: Temperature vs Tensile Strength\n",
    "plt.figure(figsize=(8, 6))\n",
    "sns.scatterplot(x=' Temperature (°C)', y=' Tensile Strength (MPa)', hue='Alloy code', data=df)\n",
    "plt.title('Temperature vs Tensile Strength by Alloy')\n",
    "plt.show()"
   ]
  }
 ],
 "metadata": {
  "kernelspec": {
   "display_name": ".venv",
   "language": "python",
   "name": "python3"
  },
  "language_info": {
   "codemirror_mode": {
    "name": "ipython",
    "version": 3
   },
   "file_extension": ".py",
   "mimetype": "text/x-python",
   "name": "python",
   "nbconvert_exporter": "python",
   "pygments_lexer": "ipython3",
   "version": "3.12.7"
  }
 },
 "nbformat": 4,
 "nbformat_minor": 5
}
